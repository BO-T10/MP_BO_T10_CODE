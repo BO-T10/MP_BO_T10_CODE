{
  "cells": [
    {
      "cell_type": "code",
      "execution_count": null,
      "metadata": {
        "id": "J7TokeLUX3qB"
      },
      "outputs": [],
      "source": [
        "!git clone https://github.com/BO-T10/MP_BO_T10_CODE.git"
      ]
    },
    {
      "cell_type": "code",
      "execution_count": null,
      "metadata": {
        "id": "b6oXgZXEYpXG"
      },
      "outputs": [],
      "source": [
        "# Changing the working directory into the repository\n",
        "%cd fff\n",
        "# Installing the dependencies\n",
        "!pip3 install 'git+https://github.com/cocodataset/cocoapi.git#subdirectory=PythonAPI'\n",
        "!pip3 install --upgrade --no-cache-dir gdown\n",
        "!pip3 install -r requirements.txt\n"
      ]
    },
    {
      "cell_type": "markdown",
      "source": [
        "Downloading and extracting the weights\n",
        "\n",
        "After this please ensure that your `/pretrained/` directory should look as follows.\n",
        " ```\n",
        "pretrained\n",
        "    ├── New_32CL_5LR_43Epoc\n",
        "    └── bytetrack_x_mot17.pth.tar\n",
        " ```\n",
        "\n",
        " If this fails download the file manually and extract it from [here](https://drive.google.com/file/d/18qPkmJIZ4fID5fA309uc8UA0HDMUjF4U/view?usp=sharing)"
      ],
      "metadata": {
        "id": "7e9N9pjRjeED"
      }
    },
    {
      "cell_type": "code",
      "execution_count": null,
      "metadata": {
        "id": "6bSrAnPJY2-Y"
      },
      "outputs": [],
      "source": [
        "!gdown --id \"18qPkmJIZ4fID5fA309uc8UA0HDMUjF4U\"\n",
        "!unzip pretrained\n",
        "!rm -rf pretrained.zip"
      ]
    },
    {
      "cell_type": "markdown",
      "source": [
        "Setting up the model"
      ],
      "metadata": {
        "id": "dz7r4h_jjaZq"
      }
    },
    {
      "cell_type": "code",
      "execution_count": null,
      "metadata": {
        "id": "hY4yJ4WyY8-j"
      },
      "outputs": [],
      "source": [
        "!python3 setup.py develop"
      ]
    },
    {
      "cell_type": "markdown",
      "source": [
        "Running the demo over a video whose path has to be passed along with the '--path' flag. The output will be saved in the `final_output` directory"
      ],
      "metadata": {
        "id": "VacvoomljQGc"
      }
    },
    {
      "cell_type": "code",
      "execution_count": null,
      "metadata": {
        "id": "ORCHJmJqZCqd"
      },
      "outputs": [],
      "source": [
        "!python3 tools/demo_track.py video -c pretrained/bytetrack_x_mot17.pth.tar --path \"/content/fff/videos/bosch_test_video.mp4\""
      ]
    },
    {
      "cell_type": "markdown",
      "source": [
        "To run it over images / directory of images. Please refer to the README.md\n",
        "\n",
        "---"
      ],
      "metadata": {
        "id": "uW3VvGZxjQ_4"
      }
    }
  ],
  "metadata": {
    "accelerator": "GPU",
    "colab": {
      "name": "MP_BO_T10_COLAB.ipynb",
      "provenance": []
    },
    "kernelspec": {
      "display_name": "Python 3",
      "name": "python3"
    },
    "language_info": {
      "name": "python"
    }
  },
  "nbformat": 4,
  "nbformat_minor": 0
}